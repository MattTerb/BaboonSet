{
 "cells": [
  {
   "cell_type": "markdown",
   "metadata": {},
   "source": [
    "# Triangulation"
   ]
  },
  {
   "cell_type": "code",
   "execution_count": 1,
   "metadata": {},
   "outputs": [
    {
     "name": "stdout",
     "output_type": "stream",
     "text": [
      "Using matplotlib backend: MacOSX\n"
     ]
    }
   ],
   "source": [
    "import os\n",
    "import pickle\n",
    "import numpy as np\n",
    "import sympy as sp\n",
    "import pandas as pd\n",
    "import matplotlib.pyplot as plt\n",
    "from glob import glob\n",
    "from time import time\n",
    "from lib import misc, utils, app\n",
    "from lib.calib import triangulate_points_fisheye\n",
    "import cv2\n",
    "# import json\n",
    "# import colorsys\n",
    "\n",
    "plt.style.use(os.path.join('..', 'configs', 'mplstyle.yaml'))\n",
    "\n",
    "%load_ext autoreload\n",
    "%autoreload 2\n",
    "%matplotlib auto\n",
    "\n",
    "ROOT_DATA_DIR = os.path.join(\"/Users/matthewterblanche/Downloads/Baboon Data/AcinoSet-main\",\"data\")"
   ]
  },
  {
   "cell_type": "markdown",
   "metadata": {},
   "source": [
    "# Ground Truth Params\n",
    "Define the params in the cell below. Thereafter, run all cells"
   ]
  },
  {
   "cell_type": "code",
   "execution_count": 2,
   "metadata": {},
   "outputs": [],
   "source": [
    "DATA_DIR = os.path.join(ROOT_DATA_DIR, \"2021_10_07\", \"Baboon1\", \"walk\")\n",
    "\n",
    "start_frame = 24420\n",
    "end_frame = 24469\n"
   ]
  },
  {
   "cell_type": "markdown",
   "metadata": {},
   "source": [
    "# Ground Truth"
   ]
  },
  {
   "cell_type": "code",
   "execution_count": 3,
   "metadata": {
    "tags": []
   },
   "outputs": [
    {
     "name": "stdout",
     "output_type": "stream",
     "text": [
      "     frame camera      marker       x      y likelihood\n",
      "0    24420      0  left_ankle   901.0  773.0          1\n",
      "1    24420      0  left_elbow  1022.0  751.0          1\n",
      "2    24420      0    left_eye     NaN    NaN          1\n",
      "3    24420      0    left_hip     NaN    NaN          1\n",
      "4    24420      0   left_knee     NaN    NaN          1\n",
      "..     ...    ...         ...     ...    ...        ...\n",
      "139  24468      1     spine_4   830.0  693.0          1\n",
      "140  24468      1      tail_1   798.0  690.0          1\n",
      "141  24468      1      tail_2   786.0  714.0          1\n",
      "142  24468      1   tail_base   811.0  698.0          1\n",
      "143  24468      1    tail_end   783.0  741.0          1\n",
      "\n",
      "[144 rows x 6 columns]\n",
      "\n",
      "    frame      marker         x         y         z  point_index\n",
      "0   24420  left_ankle -0.595706  5.478000 -0.691443            0\n",
      "1   24420  left_elbow  0.065753  5.110207 -0.526833            1\n",
      "2   24420    left_eye       NaN       NaN       NaN            2\n",
      "3   24420    left_hip       NaN       NaN       NaN            3\n",
      "4   24420   left_knee       NaN       NaN       NaN            4\n",
      "..    ...         ...       ...       ...       ...          ...\n",
      "67  24468     spine_4 -0.274460  4.961313 -0.265431           67\n",
      "68  24468      tail_1 -0.447327  5.014654 -0.262868           68\n",
      "69  24468      tail_2 -0.514709  5.038441 -0.391929           69\n",
      "70  24468   tail_base -0.377142  4.995270 -0.300005           70\n",
      "71  24468    tail_end -0.501025  4.904941 -0.501031           71\n",
      "\n",
      "[72 rows x 6 columns]\n"
     ]
    }
   ],
   "source": [
    "assert os.path.exists(DATA_DIR)\n",
    "OUT_DIR = os.path.join(DATA_DIR, 'ground_truth')\n",
    "os.makedirs(OUT_DIR, exist_ok=True)\n",
    "\n",
    "\n",
    "k_arr, d_arr, r_arr, t_arr, cam_res, n_cams, scene_fpath = utils.find_scene_file(DATA_DIR, verbose=False)\n",
    "\n",
    "\n",
    "dlc_points_fpaths = sorted(glob(os.path.join(OUT_DIR,'csv', '*.csv')))\n",
    "\n",
    "start_frame -= 1 # 0 based indexing\n",
    "assert start_frame >= 0\n",
    "N = end_frame-start_frame\n",
    "\n",
    "# Load Measurement Data (pixels, likelihood)\n",
    "dfs = []\n",
    "for path in dlc_points_fpaths:\n",
    "    dlc_df = pd.read_csv(path, sep=\";\")\n",
    "   # dlc_df = dlc_df.droplevel([0], axis=1).swaplevel(0,1,axis=1).T.unstack().T.reset_index().rename({'level_0':'frame'}, axis=1)\n",
    "    dlc_df.columns.name = ''\n",
    "    dfs.append(dlc_df)\n",
    "#create new dataframe\n",
    "dlc_df = pd.DataFrame(columns=['frame', 'camera', 'marker', 'x', 'y', 'likelihood'])\n",
    "for i, df in enumerate(dfs):\n",
    "    df['camera'] = i\n",
    "    df.rename(columns={'bodyparts':'marker'}, inplace=True)\n",
    "    dlc_df = pd.concat([dlc_df, df], sort=True, ignore_index=True)\n",
    "\n",
    "dlc_df = dlc_df[['frame', 'camera', 'marker', 'x', 'y', 'likelihood']]\n",
    "\n",
    "print(dlc_df)\n",
    "\n",
    "points_2d_df = dlc_df\n",
    "\n",
    "#points_2d_df = points_2d_df[points_2d_df[\"frame\"].between(start_frame, end_frame-1)]\n",
    "\n",
    "assert len(k_arr) == 2\n",
    "\n",
    "points_3d_df = utils.get_pairwise_3d_points_from_df(\n",
    "    points_2d_df,\n",
    "    k_arr, d_arr.reshape((-1,4)), r_arr, t_arr,\n",
    "    triangulate_points_fisheye\n",
    ")\n",
    "\n",
    "points_3d_df['point_index'] = points_3d_df.index\n",
    "\n",
    "print(points_3d_df)"
   ]
  },
  {
   "cell_type": "markdown",
   "metadata": {},
   "source": [
    "# Save triangulation results"
   ]
  },
  {
   "cell_type": "code",
   "execution_count": 4,
   "metadata": {},
   "outputs": [
    {
     "name": "stdout",
     "output_type": "stream",
     "text": [
      "Saved /Users/matthewterblanche/Downloads/Baboon Data/AcinoSet-main/data/2021_10_07/Baboon1/walk/ground_truth/tri.pickle\n",
      "Saved /Users/matthewterblanche/Downloads/Baboon Data/AcinoSet-main/data/2021_10_07/Baboon1/walk/ground_truth/tri.mat\n",
      "Saved /Users/matthewterblanche/Downloads/Baboon Data/AcinoSet-main/data/2021_10_07/Baboon1/walk/ground_truth/cam*_ground_truth.h5\n",
      "Saved /Users/matthewterblanche/Downloads/Baboon Data/AcinoSet-main/data/2021_10_07/Baboon1/walk/ground_truth/cam*_ground_truth.csv\n",
      "\n",
      "Saving labeled videos...\n"
     ]
    },
    {
     "name": "stderr",
     "output_type": "stream",
     "text": [
      "\r",
      "  0%|          | 0/25627 [00:00<?, ?it/s]\r",
      "  0%|          | 0/25627 [00:00<?, ?it/s]\r",
      "  0%|          | 2/25627 [00:00<22:28, 19.00it/s]\r",
      "  0%|          | 2/25627 [00:00<23:03, 18.53it/s]"
     ]
    },
    {
     "name": "stdout",
     "output_type": "stream",
     "text": [
      "Loading cam2 and data.\n",
      "\n",
      "Duration of video: 427.12 s, recorded with 60.0 fps!\n",
      "Total frames: 25627 with frame dimensions: 1920 x 1080\n",
      "Generating frames and creating video...\n",
      "Loading cam1 and data.\n",
      "\n",
      "Duration of video: 427.12 s, recorded with 60.0 fps!\n",
      "Total frames: 25627 with frame dimensions: 1920 x 1080\n",
      "Generating frames and creating video...\n"
     ]
    },
    {
     "name": "stderr",
     "output_type": "stream",
     "text": [
      "100%|██████████| 25627/25627 [08:42<00:00, 49.06it/s]\n",
      "\n"
     ]
    },
    {
     "name": "stdout",
     "output_type": "stream",
     "text": [
      "Done!\n",
      "\n"
     ]
    }
   ],
   "source": [
    "markers = misc.get_markers()\n",
    "\n",
    "positions = np.full((N, len(markers), 3), np.nan)\n",
    "for i, marker in enumerate(markers):\n",
    "    marker_pts = points_3d_df[points_3d_df[\"marker\"]==marker][[\"frame\", \"x\", \"y\", \"z\"]].values\n",
    "    for frame, *pt_3d in marker_pts:\n",
    "        positions[int(frame)-start_frame, i] = pt_3d\n",
    "\n",
    "app.save_tri(positions, OUT_DIR, scene_fpath, start_frame, 0)"
   ]
  },
  {
   "cell_type": "markdown",
   "metadata": {},
   "source": [
    "# Plot the baboon!"
   ]
  },
  {
   "cell_type": "code",
   "execution_count": 5,
   "metadata": {},
   "outputs": [
    {
     "name": "stdout",
     "output_type": "stream",
     "text": [
      "Loaded extrinsics from /Users/matthewterblanche/Downloads/Baboon Data/AcinoSet-main/data/2021_10_07/extrinsic_calib/2_cam_scene_sba.json\n",
      "\n"
     ]
    },
    {
     "name": "stderr",
     "output_type": "stream",
     "text": [
      "qt.qpa.window: <QNSWindow: 0x7fc2d32e1860; contentView=<QNSView: 0x7fc2d32e0700; QCocoaWindow(0x7fc2d32e05f0, window=QWidgetWindow(0x7fc2d32e0100, name=\"QGLWidgetClassWindow\"))>> has active key-value observers (KVO)! These will stop working now that the window is recreated, and will result in exceptions when the observers are removed. Break in QCocoaWindow::recreateWindowIfNeeded to debug.\n",
      "/Users/matthewterblanche/opt/anaconda3/lib/python3.8/site-packages/pyqtgraph/graphicsItems/PlotCurveItem.py:153: RuntimeWarning: All-NaN slice encountered\n",
      "  b = (np.nanmin(d), np.nanmax(d))\n"
     ]
    }
   ],
   "source": [
    "data_fpath = os.path.join(OUT_DIR, 'tri.pickle')\n",
    "app.plot_baboon_reconstruction(data_fpath, dark_mode=True)"
   ]
  },
  {
   "cell_type": "code",
   "execution_count": null,
   "metadata": {
    "scrolled": true,
    "tags": []
   },
   "outputs": [],
   "source": []
  }
 ],
 "metadata": {
  "kernelspec": {
   "display_name": "Python 3 (ipykernel)",
   "language": "python",
   "name": "python3"
  },
  "language_info": {
   "codemirror_mode": {
    "name": "ipython",
    "version": 3
   },
   "file_extension": ".py",
   "mimetype": "text/x-python",
   "name": "python",
   "nbconvert_exporter": "python",
   "pygments_lexer": "ipython3",
   "version": "3.8.11"
  }
 },
 "nbformat": 4,
 "nbformat_minor": 4
}
