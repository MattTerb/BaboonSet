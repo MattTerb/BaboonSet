{
 "cells": [
  {
   "cell_type": "markdown",
   "metadata": {},
   "source": [
    "# Sparse Bundle Adjustment"
   ]
  },
  {
   "cell_type": "code",
   "execution_count": 1,
   "metadata": {},
   "outputs": [],
   "source": [
    "import os\n",
    "import pickle\n",
    "import numpy as np\n",
    "import matplotlib.pyplot as plt\n",
    "from glob import glob\n",
    "from time import time\n",
    "from lib import misc, utils, app\n",
    "\n",
    "plt.style.use(os.path.join('..', 'configs', 'mplstyle.yaml'))\n",
    "\n",
    "%load_ext autoreload\n",
    "%autoreload 2\n",
    "\n",
    "ROOT_DATA_DIR = os.path.join(\"/Users/matthewterblanche/Downloads/Baboon Data/AcinoSet-main\",\"data\")"
   ]
  },
  {
   "cell_type": "markdown",
   "metadata": {},
   "source": [
    "# Reconstruction Params\n",
    "Define the params in the cell below. Thereafter, run all cells"
   ]
  },
  {
   "cell_type": "code",
   "execution_count": 2,
   "metadata": {},
   "outputs": [],
   "source": [
    "DATA_DIR = os.path.join(ROOT_DATA_DIR, \"2021_10_07\", \"Baboon1\", \"walk\")\n",
    "\n",
    "start_frame = 24320\n",
    "end_frame = 24705\n",
    "\n",
    "# DLC p_cutoff - any points with likelihood < dlc_thresh are not trusted in optimisation\n",
    "dlc_thresh = 0.5 # change this only if the optimisation result is unsatisfactory"
   ]
  },
  {
   "cell_type": "markdown",
   "metadata": {},
   "source": [
    "# Optimization"
   ]
  },
  {
   "cell_type": "code",
   "execution_count": 3,
   "metadata": {},
   "outputs": [
    {
     "name": "stdout",
     "output_type": "stream",
     "text": [
      "Initialization took 1.75 seconds\n",
      "\n",
      "Loaded extrinsics from /Users/matthewterblanche/Downloads/Baboon Data/AcinoSet-main/data/2021_10_07/extrinsic_calib/2_cam_scene_sba.json\n",
      "\n",
      "\n",
      "bundle_adjust_points_only\n",
      "   Iteration     Total nfev        Cost      Cost reduction    Step norm     Optimality   \n",
      "       0              1         1.5297e+04                                    4.45e+01    \n",
      "       1              2         1.5295e+04      1.69e+00       9.46e-02       3.22e-02    \n",
      "       2              3         1.5295e+04      1.55e-05       1.12e-03       1.86e-02    \n",
      "       3              4         1.5295e+04      2.68e-06       1.89e-04       1.02e-02    \n",
      "       4              5         1.5295e+04      7.55e-07       1.17e-04       4.00e-02    \n",
      "       5              6         1.5295e+04      1.96e-07       3.04e-05       4.15e-02    \n",
      "       6              7         1.5295e+04      8.80e-08       6.07e-06       1.58e-02    \n",
      "       7              8         1.5295e+04      1.46e-07       4.00e-05       7.00e-02    \n",
      "       8              9         1.5295e+04      1.21e-07       7.01e-06       1.44e-02    \n",
      "       9             10         1.5295e+04      2.15e-08       4.40e-06       7.15e-03    \n",
      "`xtol` termination condition is satisfied.\n",
      "Function evaluations 10, initial cost 1.5297e+04, final cost 1.5295e+04, first-order optimality 7.15e-03.\n",
      "\n",
      "Optimization took 9.78 seconds\n",
      "\n",
      "Before: mean: -0.002046882983807025, std: 1.0011255848148066\n",
      "After: mean: -0.002156508512882827, std: 1.001069491182411\n",
      "\n",
      "Saved /Users/matthewterblanche/Downloads/Baboon Data/AcinoSet-main/data/2021_10_07/Baboon1/walk/sba/sba.svg\n",
      "\n"
     ]
    },
    {
     "data": {
      "image/png": "[encoded data removed]",
      "text/plain": [
       "<Figure size 600x400 with 1 Axes>"
      ]
     },
     "metadata": {
      "needs_background": "light"
     },
     "output_type": "display_data"
    }
   ],
   "source": [
    "t0 = time()\n",
    "\n",
    "assert os.path.exists(DATA_DIR)\n",
    "OUT_DIR = os.path.join(DATA_DIR, 'sba')\n",
    "DLC_DIR = os.path.join(DATA_DIR, 'dlc')\n",
    "assert os.path.exists(DLC_DIR)\n",
    "os.makedirs(OUT_DIR, exist_ok=True)\n",
    "\n",
    "app.start_logging(os.path.join(OUT_DIR, 'sba.log'))\n",
    "\n",
    "# load video info\n",
    "res, fps, tot_frames, _ = app.get_vid_info(DATA_DIR) # path to original videos\n",
    "assert end_frame <= tot_frames, f'end_frame must be less than or equal to {tot_frames}'\n",
    "\n",
    "start_frame -= 1 # 0 based indexing\n",
    "assert start_frame >= 0\n",
    "N = end_frame-start_frame\n",
    "\n",
    "*_, n_cams, scene_fpath = utils.find_scene_file(DATA_DIR, verbose=False)\n",
    "\n",
    "dlc_points_fpaths = sorted(glob(os.path.join(DLC_DIR, '*.h5')))\n",
    "assert n_cams == len(dlc_points_fpaths)\n",
    "    \n",
    "# Load Measurement Data (pixels, likelihood)\n",
    "points_2d_df = utils.load_dlc_points_as_df(dlc_points_fpaths, verbose=False)\n",
    "points_2d_df = points_2d_df[points_2d_df[\"frame\"].between(start_frame, end_frame-1)]\n",
    "points_2d_df = points_2d_df[points_2d_df['likelihood']>dlc_thresh] # ignore points with low likelihood\n",
    "\n",
    "t1 = time()\n",
    "print(\"Initialization took {0:.2f} seconds\\n\".format(t1 - t0))\n",
    "\n",
    "points_3d_df, residuals = app.sba_points_fisheye(scene_fpath, points_2d_df)\n",
    "\n",
    "app.stop_logging()\n",
    "\n",
    "plt.plot(residuals['before'], label=\"Cost before\")\n",
    "plt.plot(residuals['after'], label=\"Cost after\")\n",
    "plt.legend()\n",
    "fig_fpath = os.path.join(OUT_DIR, 'sba.svg')\n",
    "plt.savefig(fig_fpath, transparent=True)\n",
    "print(f'Saved {fig_fpath}\\n')\n",
    "plt.show(block=False)"
   ]
  },
  {
   "cell_type": "markdown",
   "metadata": {},
   "source": [
    "# Save SBA results"
   ]
  },
  {
   "cell_type": "code",
   "execution_count": 4,
   "metadata": {},
   "outputs": [
    {
     "name": "stdout",
     "output_type": "stream",
     "text": [
      "Saved /Users/matthewterblanche/Downloads/Baboon Data/AcinoSet-main/data/2021_10_07/Baboon1/walk/sba/sba.pickle\n",
      "Saved /Users/matthewterblanche/Downloads/Baboon Data/AcinoSet-main/data/2021_10_07/Baboon1/walk/sba/sba.mat\n",
      "Saved /Users/matthewterblanche/Downloads/Baboon Data/AcinoSet-main/data/2021_10_07/Baboon1/walk/sba/cam*_sba.h5\n",
      "Saved /Users/matthewterblanche/Downloads/Baboon Data/AcinoSet-main/data/2021_10_07/Baboon1/walk/sba/cam*_sba.csv\n",
      "\n",
      "Saving labeled videos...\n"
     ]
    },
    {
     "name": "stderr",
     "output_type": "stream",
     "text": [
      "  0%|          | 2/25627 [00:00<25:21, 16.84it/s]"
     ]
    },
    {
     "name": "stdout",
     "output_type": "stream",
     "text": [
      "Loading cam2 and data.\n",
      "\n",
      "Duration of video: 427.12 s, recorded with 60.0 fps!\n",
      "Total frames: 25627 with frame dimensions: 1920 x 1080\n",
      "Generating frames and creating video...\n",
      "Loading cam1 and data.\n",
      "\n",
      "Duration of video: 427.12 s, recorded with 60.0 fps!\n",
      "Total frames: 25627 with frame dimensions: 1920 x 1080\n",
      "Generating frames and creating video...\n"
     ]
    },
    {
     "name": "stderr",
     "output_type": "stream",
     "text": [
      "100%|██████████| 25627/25627 [09:13<00:00, 46.30it/s]"
     ]
    },
    {
     "name": "stdout",
     "output_type": "stream",
     "text": [
      "Done!\n",
      "\n"
     ]
    },
    {
     "name": "stderr",
     "output_type": "stream",
     "text": [
      "\n",
      "\n"
     ]
    }
   ],
   "source": [
    "markers = misc.get_markers()\n",
    "\n",
    "positions = np.full((N, len(markers), 3), np.nan)\n",
    "for i, marker in enumerate(markers):\n",
    "    marker_pts = points_3d_df[points_3d_df[\"marker\"]==marker][[\"frame\", \"x\", \"y\", \"z\"]].values\n",
    "    for frame, *pt_3d in marker_pts:\n",
    "        positions[int(frame)-start_frame, i] = pt_3d\n",
    "\n",
    "app.save_sba(positions, OUT_DIR, scene_fpath, start_frame, dlc_thresh)"
   ]
  },
  {
   "cell_type": "markdown",
   "metadata": {},
   "source": [
    "# Plot the baboon!"
   ]
  },
  {
   "cell_type": "code",
   "execution_count": 5,
   "metadata": {},
   "outputs": [
    {
     "name": "stdout",
     "output_type": "stream",
     "text": [
      "Loaded extrinsics from /Users/matthewterblanche/Downloads/Baboon Data/AcinoSet-main/data/2021_10_07/extrinsic_calib/2_cam_scene_sba.json\n",
      "\n"
     ]
    },
    {
     "name": "stderr",
     "output_type": "stream",
     "text": [
      "qt.qpa.window: <QNSWindow: 0x7ff16e13eef0; contentView=<QNSView: 0x7ff16e13e770; QCocoaWindow(0x7ff16e13e640, window=QWidgetWindow(0x7ff16e13e130, name=\"QGLWidgetClassWindow\"))>> has active key-value observers (KVO)! These will stop working now that the window is recreated, and will result in exceptions when the observers are removed. Break in QCocoaWindow::recreateWindowIfNeeded to debug.\n"
     ]
    }
   ],
   "source": [
    "data_fpath = os.path.join(OUT_DIR, 'sba.pickle')\n",
    "app.plot_baboon_reconstruction(data_fpath, reprojections=False, centered=True, dark_mode=True)"
   ]
  },
  {
   "cell_type": "code",
   "execution_count": null,
   "metadata": {},
   "outputs": [],
   "source": []
  }
 ],
 "metadata": {
  "kernelspec": {
   "display_name": "Python 3 (ipykernel)",
   "language": "python",
   "name": "python3"
  },
  "language_info": {
   "codemirror_mode": {
    "name": "ipython",
    "version": 3
   },
   "file_extension": ".py",
   "mimetype": "text/x-python",
   "name": "python",
   "nbconvert_exporter": "python",
   "pygments_lexer": "ipython3",
   "version": "3.8.11"
  }
 },
 "nbformat": 4,
 "nbformat_minor": 4
}
